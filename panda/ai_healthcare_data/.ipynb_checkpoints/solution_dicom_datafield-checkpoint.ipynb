{
 "cells": [
  {
   "cell_type": "code",
   "execution_count": 1,
   "metadata": {},
   "outputs": [],
   "source": [
    "import pandas as pd\n",
    "import numpy as np\n",
    "import pydicom\n",
    "import glob"
   ]
  },
  {
   "cell_type": "code",
   "execution_count": 2,
   "metadata": {},
   "outputs": [],
   "source": [
    "## First, read all of my DICOM files into a list\n",
    "mydicoms = glob.glob(\"*.dcm\")"
   ]
  },
  {
   "cell_type": "markdown",
   "metadata": {},
   "source": [
    "### Let's look at the contents of the first DICOM:"
   ]
  },
  {
   "cell_type": "code",
   "execution_count": 3,
   "metadata": {},
   "outputs": [
    {
     "data": {
      "text/plain": [
       "Dataset.file_meta -------------------------------\n",
       "(0002, 0000) File Meta Information Group Length  UL: 204\n",
       "(0002, 0001) File Meta Information Version       OB: b'\\x00\\x01'\n",
       "(0002, 0002) Media Storage SOP Class UID         UI: Secondary Capture Image Storage\n",
       "(0002, 0003) Media Storage SOP Instance UID      UI: 1.3.6.1.4.1.11129.5.5.166464213123411798454010159008736232327346\n",
       "(0002, 0010) Transfer Syntax UID                 UI: Implicit VR Little Endian\n",
       "(0002, 0012) Implementation Class UID            UI: 1.2.826.0.1.3680043.8.498.1\n",
       "(0002, 0013) Implementation Version Name         SH: 'PYDICOM 1.2.0'\n",
       "-------------------------------------------------\n",
       "(0008, 0016) SOP Class UID                       UI: Secondary Capture Image Storage\n",
       "(0008, 0018) SOP Instance UID                    UI: 1.3.6.1.4.1.11129.5.5.166464213123411798454010159008736232327346\n",
       "(0008, 0060) Modality                            CS: 'DX'\n",
       "(0008, 1030) Study Description                   LO: 'Consolidation|Mass|Pneumonia|Pneumothorax'\n",
       "(0010, 0020) Patient ID                          LO: '13659'\n",
       "(0010, 0040) Patient's Sex                       CS: 'F'\n",
       "(0010, 1010) Patient's Age                       AS: '62'\n",
       "(0020, 000d) Study Instance UID                  UI: 1.3.6.1.4.1.11129.5.5.190137684722192658825563236786319210870500\n",
       "(0020, 000e) Series Instance UID                 UI: 1.3.6.1.4.1.11129.5.5.137424488464079673094153160013557077147159\n",
       "(0028, 0002) Samples per Pixel                   US: 1\n",
       "(0028, 0004) Photometric Interpretation          CS: 'MONOCHROME2'\n",
       "(0028, 0010) Rows                                US: 1024\n",
       "(0028, 0011) Columns                             US: 1024\n",
       "(0028, 0100) Bits Allocated                      US: 8\n",
       "(0028, 0101) Bits Stored                         US: 8\n",
       "(0028, 0102) High Bit                            US: 7\n",
       "(0028, 0103) Pixel Representation                US: 0\n",
       "(7fe0, 0010) Pixel Data                          OW: Array of 1048576 elements"
      ]
     },
     "execution_count": 3,
     "metadata": {},
     "output_type": "execute_result"
    }
   ],
   "source": [
    "dcm1 = pydicom.dcmread(mydicoms[0])\n",
    "dcm1"
   ]
  },
  {
   "cell_type": "code",
   "execution_count": 4,
   "metadata": {},
   "outputs": [
    {
     "data": {
      "text/plain": [
       "'13659'"
      ]
     },
     "execution_count": 4,
     "metadata": {},
     "output_type": "execute_result"
    }
   ],
   "source": [
    "## Do some exploratory work before about how to extract these attributes using pydicom... \n",
    "dcm1[\"Columns\"]\n",
    "dcm1[0x0008,0x1030].keyword\n",
    "\n",
    "dcm1.PatientID"
   ]
  },
  {
   "cell_type": "markdown",
   "metadata": {},
   "source": [
    "## Now, let's create the dataframe that we want, and populate it in a loop with all of our DICOMS:\n",
    "\n",
    "To complete this exercise, create a single dataframe that has the following columns:\n",
    "- Patient ID\n",
    "- Patient Age (as an integer)\n",
    "- Patient Sex (M/F)\n",
    "- Imaging Modality\n",
    "- Type of finding in the image\n",
    "- Number of rows in the image\n",
    "- Number of columns in the image\n",
    "\n",
    "Save this dataframe as a .CSV file."
   ]
  },
  {
   "cell_type": "code",
   "execution_count": 5,
   "metadata": {},
   "outputs": [],
   "source": [
    "column_name = [\"PatientID\", \"PatientSex\",'PatientAge','Modality','StudyDescription','Rows','Columns']\n",
    "summary_db = pd.DataFrame(columns=column_name)"
   ]
  },
  {
   "cell_type": "code",
   "execution_count": 6,
   "metadata": {},
   "outputs": [],
   "source": [
    "for adicom in mydicoms:\n",
    "    dcm = pydicom.dcmread(adicom)\n",
    "    \n",
    "    TempDict = dict.fromkeys(column_name, None)\n",
    "    TempDict[\"PatientID\"]= dcm.PatientID\n",
    "    TempDict[\"PatientSex\"]= dcm.PatientSex\n",
    "    TempDict[\"PatientAge\"]= dcm.PatientAge\n",
    "    TempDict[\"Modality\"]= dcm.Modality\n",
    "    TempDict[\"StudyDescription\"]= dcm.StudyDescription\n",
    "    TempDict[\"Rows\"]= dcm.Rows\n",
    "    TempDict[\"Columns\"]= dcm.Columns\n",
    "    \n",
    "    new_row = pd.Series(TempDict, name=adicom)\n",
    "    summary_db = summary_db.append(new_row)\n",
    "    "
   ]
  },
  {
   "cell_type": "code",
   "execution_count": 7,
   "metadata": {},
   "outputs": [
    {
     "data": {
      "text/html": [
       "<div>\n",
       "<style scoped>\n",
       "    .dataframe tbody tr th:only-of-type {\n",
       "        vertical-align: middle;\n",
       "    }\n",
       "\n",
       "    .dataframe tbody tr th {\n",
       "        vertical-align: top;\n",
       "    }\n",
       "\n",
       "    .dataframe thead th {\n",
       "        text-align: right;\n",
       "    }\n",
       "</style>\n",
       "<table border=\"1\" class=\"dataframe\">\n",
       "  <thead>\n",
       "    <tr style=\"text-align: right;\">\n",
       "      <th></th>\n",
       "      <th>PatientID</th>\n",
       "      <th>PatientSex</th>\n",
       "      <th>PatientAge</th>\n",
       "      <th>Modality</th>\n",
       "      <th>StudyDescription</th>\n",
       "      <th>Rows</th>\n",
       "      <th>Columns</th>\n",
       "    </tr>\n",
       "  </thead>\n",
       "  <tbody>\n",
       "    <tr>\n",
       "      <th>dicom_00013659_019.dcm</th>\n",
       "      <td>13659</td>\n",
       "      <td>F</td>\n",
       "      <td>62</td>\n",
       "      <td>DX</td>\n",
       "      <td>Consolidation|Mass|Pneumonia|Pneumothorax</td>\n",
       "      <td>1024</td>\n",
       "      <td>1024</td>\n",
       "    </tr>\n",
       "    <tr>\n",
       "      <th>dicom_00023075_033.dcm</th>\n",
       "      <td>23075</td>\n",
       "      <td>M</td>\n",
       "      <td>31</td>\n",
       "      <td>DX</td>\n",
       "      <td>Mass</td>\n",
       "      <td>1024</td>\n",
       "      <td>1024</td>\n",
       "    </tr>\n",
       "    <tr>\n",
       "      <th>dicom_00029579_005.dcm</th>\n",
       "      <td>29579</td>\n",
       "      <td>F</td>\n",
       "      <td>24</td>\n",
       "      <td>DX</td>\n",
       "      <td>Effusion|Nodule|Pleural_Thickening|Mass</td>\n",
       "      <td>1024</td>\n",
       "      <td>1024</td>\n",
       "    </tr>\n",
       "  </tbody>\n",
       "</table>\n",
       "</div>"
      ],
      "text/plain": [
       "                       PatientID PatientSex PatientAge Modality  \\\n",
       "dicom_00013659_019.dcm     13659          F         62       DX   \n",
       "dicom_00023075_033.dcm     23075          M         31       DX   \n",
       "dicom_00029579_005.dcm     29579          F         24       DX   \n",
       "\n",
       "                                                 StudyDescription  Rows  \\\n",
       "dicom_00013659_019.dcm  Consolidation|Mass|Pneumonia|Pneumothorax  1024   \n",
       "dicom_00023075_033.dcm                                       Mass  1024   \n",
       "dicom_00029579_005.dcm    Effusion|Nodule|Pleural_Thickening|Mass  1024   \n",
       "\n",
       "                       Columns  \n",
       "dicom_00013659_019.dcm    1024  \n",
       "dicom_00023075_033.dcm    1024  \n",
       "dicom_00029579_005.dcm    1024  "
      ]
     },
     "execution_count": 7,
     "metadata": {},
     "output_type": "execute_result"
    }
   ],
   "source": [
    "summary_db"
   ]
  },
  {
   "cell_type": "markdown",
   "metadata": {},
   "source": [
    "# Another method"
   ]
  },
  {
   "cell_type": "code",
   "execution_count": 8,
   "metadata": {},
   "outputs": [],
   "source": [
    "all_data = []\n",
    "\n",
    "for i in mydicoms: \n",
    "    dcm = pydicom.dcmread(i)\n",
    "    fields = [dcm.PatientID, int(dcm.PatientAge), dcm.PatientSex, dcm.Modality, dcm.StudyDescription,\n",
    "             dcm.Rows, dcm.Columns]\n",
    "    all_data.append(fields)"
   ]
  },
  {
   "cell_type": "code",
   "execution_count": 9,
   "metadata": {},
   "outputs": [],
   "source": [
    "mydata = pd.DataFrame(all_data, \n",
    "                      columns = ['PatientID','PatientAge','PatientSex','Modality','Findings','Rows','Columns'])"
   ]
  },
  {
   "cell_type": "code",
   "execution_count": 10,
   "metadata": {},
   "outputs": [
    {
     "data": {
      "text/html": [
       "<div>\n",
       "<style scoped>\n",
       "    .dataframe tbody tr th:only-of-type {\n",
       "        vertical-align: middle;\n",
       "    }\n",
       "\n",
       "    .dataframe tbody tr th {\n",
       "        vertical-align: top;\n",
       "    }\n",
       "\n",
       "    .dataframe thead th {\n",
       "        text-align: right;\n",
       "    }\n",
       "</style>\n",
       "<table border=\"1\" class=\"dataframe\">\n",
       "  <thead>\n",
       "    <tr style=\"text-align: right;\">\n",
       "      <th></th>\n",
       "      <th>PatientID</th>\n",
       "      <th>PatientAge</th>\n",
       "      <th>PatientSex</th>\n",
       "      <th>Modality</th>\n",
       "      <th>Findings</th>\n",
       "      <th>Rows</th>\n",
       "      <th>Columns</th>\n",
       "    </tr>\n",
       "  </thead>\n",
       "  <tbody>\n",
       "    <tr>\n",
       "      <th>0</th>\n",
       "      <td>13659</td>\n",
       "      <td>62</td>\n",
       "      <td>F</td>\n",
       "      <td>DX</td>\n",
       "      <td>Consolidation|Mass|Pneumonia|Pneumothorax</td>\n",
       "      <td>1024</td>\n",
       "      <td>1024</td>\n",
       "    </tr>\n",
       "    <tr>\n",
       "      <th>1</th>\n",
       "      <td>23075</td>\n",
       "      <td>31</td>\n",
       "      <td>M</td>\n",
       "      <td>DX</td>\n",
       "      <td>Mass</td>\n",
       "      <td>1024</td>\n",
       "      <td>1024</td>\n",
       "    </tr>\n",
       "    <tr>\n",
       "      <th>2</th>\n",
       "      <td>29579</td>\n",
       "      <td>24</td>\n",
       "      <td>F</td>\n",
       "      <td>DX</td>\n",
       "      <td>Effusion|Nodule|Pleural_Thickening|Mass</td>\n",
       "      <td>1024</td>\n",
       "      <td>1024</td>\n",
       "    </tr>\n",
       "  </tbody>\n",
       "</table>\n",
       "</div>"
      ],
      "text/plain": [
       "  PatientID  PatientAge PatientSex Modality  \\\n",
       "0     13659          62          F       DX   \n",
       "1     23075          31          M       DX   \n",
       "2     29579          24          F       DX   \n",
       "\n",
       "                                    Findings  Rows  Columns  \n",
       "0  Consolidation|Mass|Pneumonia|Pneumothorax  1024     1024  \n",
       "1                                       Mass  1024     1024  \n",
       "2    Effusion|Nodule|Pleural_Thickening|Mass  1024     1024  "
      ]
     },
     "execution_count": 10,
     "metadata": {},
     "output_type": "execute_result"
    }
   ],
   "source": [
    "mydata"
   ]
  },
  {
   "cell_type": "code",
   "execution_count": null,
   "metadata": {},
   "outputs": [],
   "source": []
  }
 ],
 "metadata": {
  "kernelspec": {
   "display_name": "Python 3 (ipykernel)",
   "language": "python",
   "name": "python3"
  },
  "language_info": {
   "codemirror_mode": {
    "name": "ipython",
    "version": 3
   },
   "file_extension": ".py",
   "mimetype": "text/x-python",
   "name": "python",
   "nbconvert_exporter": "python",
   "pygments_lexer": "ipython3",
   "version": "3.9.7"
  }
 },
 "nbformat": 4,
 "nbformat_minor": 2
}
